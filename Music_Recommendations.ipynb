{
  "nbformat": 4,
  "nbformat_minor": 0,
  "metadata": {
    "colab": {
      "provenance": [],
      "include_colab_link": true
    },
    "kernelspec": {
      "display_name": "Python 3",
      "name": "python3"
    }
  },
  "cells": [
    {
      "cell_type": "markdown",
      "metadata": {
        "id": "view-in-github",
        "colab_type": "text"
      },
      "source": [
        "<a href=\"https://colab.research.google.com/github/SankalpC10/LLM/blob/main/Music_Recommendations.ipynb\" target=\"_parent\"><img src=\"https://colab.research.google.com/assets/colab-badge.svg\" alt=\"Open In Colab\"/></a>"
      ]
    },
    {
      "cell_type": "markdown",
      "metadata": {
        "id": "uixRc0XtrHuj"
      },
      "source": [
        "# **WELCOME TO THIS NOTEBOOK**"
      ]
    },
    {
      "cell_type": "code",
      "source": [
        "from google.colab import drive\n",
        "drive.mount('/content/drive')"
      ],
      "metadata": {
        "colab": {
          "base_uri": "https://localhost:8080/"
        },
        "id": "JytDp8igraBz",
        "outputId": "fee8ec12-baac-4409-b8d7-b03f07853f9d"
      },
      "execution_count": null,
      "outputs": [
        {
          "output_type": "stream",
          "name": "stdout",
          "text": [
            "Drive already mounted at /content/drive; to attempt to forcibly remount, call drive.mount(\"/content/drive\", force_remount=True).\n"
          ]
        }
      ]
    },
    {
      "cell_type": "markdown",
      "metadata": {
        "id": "hMZ64UxxrMvL"
      },
      "source": [
        "Let's install pyspark"
      ]
    },
    {
      "cell_type": "code",
      "metadata": {
        "id": "Dal3Np2Imn8u",
        "colab": {
          "base_uri": "https://localhost:8080/"
        },
        "outputId": "303cdaee-d378-4d7a-8f8b-391b9239798b"
      },
      "source": [
        "!pip install pyspark"
      ],
      "execution_count": null,
      "outputs": [
        {
          "output_type": "stream",
          "name": "stdout",
          "text": [
            "Collecting pyspark\n",
            "  Downloading pyspark-3.5.0.tar.gz (316.9 MB)\n",
            "\u001b[2K     \u001b[90m━━━━━━━━━━━━━━━━━━━━━━━━━━━━━━━━━━━━━━━━\u001b[0m \u001b[32m316.9/316.9 MB\u001b[0m \u001b[31m3.9 MB/s\u001b[0m eta \u001b[36m0:00:00\u001b[0m\n",
            "\u001b[?25h  Preparing metadata (setup.py) ... \u001b[?25l\u001b[?25hdone\n",
            "Requirement already satisfied: py4j==0.10.9.7 in /usr/local/lib/python3.10/dist-packages (from pyspark) (0.10.9.7)\n",
            "Building wheels for collected packages: pyspark\n",
            "  Building wheel for pyspark (setup.py) ... \u001b[?25l\u001b[?25hdone\n",
            "  Created wheel for pyspark: filename=pyspark-3.5.0-py2.py3-none-any.whl size=317425345 sha256=0d43b232f381644a77eb7f081c550e3bba3707467c1ada97fec1e0afa21cf8a5\n",
            "  Stored in directory: /root/.cache/pip/wheels/41/4e/10/c2cf2467f71c678cfc8a6b9ac9241e5e44a01940da8fbb17fc\n",
            "Successfully built pyspark\n",
            "Installing collected packages: pyspark\n",
            "Successfully installed pyspark-3.5.0\n"
          ]
        }
      ]
    },
    {
      "cell_type": "markdown",
      "metadata": {
        "id": "eK9D-CNgru_s"
      },
      "source": [
        "Importing the modules"
      ]
    },
    {
      "cell_type": "code",
      "metadata": {
        "id": "Z_cmzia9nA1W"
      },
      "source": [
        "from pyspark.sql import SparkSession\n",
        "from pyspark.sql.functions import count, desc , col, max\n",
        "from pyspark.ml.feature import  StringIndexer\n",
        "from pyspark.ml import Pipeline\n",
        "from pyspark.ml.recommendation import ALS\n",
        "from pyspark.ml.tuning import TrainValidationSplit, ParamGridBuilder"
      ],
      "execution_count": null,
      "outputs": []
    },
    {
      "cell_type": "markdown",
      "metadata": {
        "id": "pjM5P6b0rVpH"
      },
      "source": [
        "Creating the spark session\n"
      ]
    },
    {
      "cell_type": "code",
      "metadata": {
        "id": "gvSzI0zMn4Hk"
      },
      "source": [
        "spark = SparkSession.builder.appName(\"lastfm\").getOrCreate()"
      ],
      "execution_count": null,
      "outputs": []
    },
    {
      "cell_type": "markdown",
      "metadata": {
        "id": "KnyYdMVmnkp5"
      },
      "source": [
        "# Loading the dataset"
      ]
    },
    {
      "cell_type": "code",
      "metadata": {
        "id": "PywJeVgDngVd",
        "colab": {
          "base_uri": "https://localhost:8080/"
        },
        "outputId": "e38675bf-a410-491d-f839-e1ce7f05158e"
      },
      "source": [
        "file_path = '/content/drive/MyDrive/dataset/listenings.csv'\n",
        "df_listenings = spark.read.format('csv').option('header', True).option('inferSchema',True).load(file_path)\n",
        "df_listenings.show()"
      ],
      "execution_count": null,
      "outputs": [
        {
          "output_type": "stream",
          "name": "stdout",
          "text": [
            "+-----------+-------------+--------------------+---------------+--------------------+\n",
            "|    user_id|         date|               track|         artist|               album|\n",
            "+-----------+-------------+--------------------+---------------+--------------------+\n",
            "|000Silenced|1299680100000|           Price Tag|       Jessie J|         Who You Are|\n",
            "|000Silenced|1299679920000|Price Tag (Acoust...|       Jessie J|           Price Tag|\n",
            "|000Silenced|1299679440000|Be Mine! (Ballad ...|          Robyn|            Be Mine!|\n",
            "|000Silenced|1299679200000|            Acapella|          Kelis|            Acapella|\n",
            "|000Silenced|1299675660000|   I'm Not Invisible|      The Tease|   I'm Not Invisible|\n",
            "|000Silenced|1297511400000|Bounce (Feat NORE...|       MSTRKRFT|         Fist of God|\n",
            "|000Silenced|1294498440000|Don't Stop The Mu...|        Rihanna|Addicted 2 Bassli...|\n",
            "|000Silenced|1292438340000|               ObZen|      Meshuggah|               ObZen|\n",
            "|000Silenced|1292437740000|   Yama's Messengers|         Gojira|The Way of All Flesh|\n",
            "|000Silenced|1292436360000|On the Brink of E...|   Napalm Death|Time Waits For No...|\n",
            "|000Silenced|1292436360000|On the Brink of E...|   Napalm Death|Time Waits For No...|\n",
            "|000Silenced|1292435940000|        In Deference|   Napalm Death|      Smear Campaign|\n",
            "|000Silenced|1292434920000|      Post(?)organic|    Decapitated|Organic Hallucinosis|\n",
            "|000Silenced|1292434560000|        Mind Feeders|   Dom & Roland| No Strings Attached|\n",
            "|000Silenced|1292434320000|Necrosadistic War...|Cannibal Corpse|                Kill|\n",
            "|000Silenced|1292365560000|     Dance All Night|   Dom & Roland|          Chronology|\n",
            "|000Silenced|1292365260000|          Late Night|   Dom & Roland|          Chronology|\n",
            "|000Silenced|1292365020000|          Freak Seen|   Dom & Roland|          Chronology|\n",
            "|000Silenced|1292364720000|Paradrenasite (Hi...|   Dom & Roland|          Chronology|\n",
            "|000Silenced|1292364300000|               Rhino|   Dom & Roland|          Chronology|\n",
            "+-----------+-------------+--------------------+---------------+--------------------+\n",
            "only showing top 20 rows\n",
            "\n"
          ]
        }
      ]
    },
    {
      "cell_type": "markdown",
      "metadata": {
        "id": "YUHBP0yjoJvc"
      },
      "source": [
        "\n",
        "# Cleaning tables"
      ]
    },
    {
      "cell_type": "code",
      "metadata": {
        "id": "N8luDo3HndTb",
        "colab": {
          "base_uri": "https://localhost:8080/"
        },
        "outputId": "0b267a22-aaca-4c41-b95c-e637ca671990"
      },
      "source": [
        "df_listenings = df_listenings.na.drop()\n",
        "df_listenings.show()"
      ],
      "execution_count": null,
      "outputs": [
        {
          "output_type": "stream",
          "name": "stdout",
          "text": [
            "+-----------+-------------+--------------------+---------------+--------------------+\n",
            "|    user_id|         date|               track|         artist|               album|\n",
            "+-----------+-------------+--------------------+---------------+--------------------+\n",
            "|000Silenced|1299680100000|           Price Tag|       Jessie J|         Who You Are|\n",
            "|000Silenced|1299679920000|Price Tag (Acoust...|       Jessie J|           Price Tag|\n",
            "|000Silenced|1299679440000|Be Mine! (Ballad ...|          Robyn|            Be Mine!|\n",
            "|000Silenced|1299679200000|            Acapella|          Kelis|            Acapella|\n",
            "|000Silenced|1299675660000|   I'm Not Invisible|      The Tease|   I'm Not Invisible|\n",
            "|000Silenced|1297511400000|Bounce (Feat NORE...|       MSTRKRFT|         Fist of God|\n",
            "|000Silenced|1294498440000|Don't Stop The Mu...|        Rihanna|Addicted 2 Bassli...|\n",
            "|000Silenced|1292438340000|               ObZen|      Meshuggah|               ObZen|\n",
            "|000Silenced|1292437740000|   Yama's Messengers|         Gojira|The Way of All Flesh|\n",
            "|000Silenced|1292436360000|On the Brink of E...|   Napalm Death|Time Waits For No...|\n",
            "|000Silenced|1292436360000|On the Brink of E...|   Napalm Death|Time Waits For No...|\n",
            "|000Silenced|1292435940000|        In Deference|   Napalm Death|      Smear Campaign|\n",
            "|000Silenced|1292434920000|      Post(?)organic|    Decapitated|Organic Hallucinosis|\n",
            "|000Silenced|1292434560000|        Mind Feeders|   Dom & Roland| No Strings Attached|\n",
            "|000Silenced|1292434320000|Necrosadistic War...|Cannibal Corpse|                Kill|\n",
            "|000Silenced|1292365560000|     Dance All Night|   Dom & Roland|          Chronology|\n",
            "|000Silenced|1292365260000|          Late Night|   Dom & Roland|          Chronology|\n",
            "|000Silenced|1292365020000|          Freak Seen|   Dom & Roland|          Chronology|\n",
            "|000Silenced|1292364720000|Paradrenasite (Hi...|   Dom & Roland|          Chronology|\n",
            "|000Silenced|1292364300000|               Rhino|   Dom & Roland|          Chronology|\n",
            "+-----------+-------------+--------------------+---------------+--------------------+\n",
            "only showing top 20 rows\n",
            "\n"
          ]
        }
      ]
    },
    {
      "cell_type": "code",
      "metadata": {
        "id": "5rDadwmpowII"
      },
      "source": [],
      "execution_count": null,
      "outputs": []
    },
    {
      "cell_type": "code",
      "metadata": {
        "id": "UZr0ZxOVIYr9",
        "outputId": "54ebb437-cd96-42e2-ff44-eb579b1efc9b",
        "colab": {
          "base_uri": "https://localhost:8080/",
          "height": 34
        }
      },
      "source": [],
      "execution_count": null,
      "outputs": [
        {
          "output_type": "stream",
          "text": [
            "13758905 4\n"
          ],
          "name": "stdout"
        }
      ]
    },
    {
      "cell_type": "markdown",
      "metadata": {
        "id": "cyf1XITGpMWV"
      },
      "source": [
        "\n",
        "# Let's Perform some aggregation\n",
        "to see how many times each user has listened to specific track\n"
      ]
    },
    {
      "cell_type": "code",
      "metadata": {
        "id": "PeH7vYKEoyWa",
        "colab": {
          "base_uri": "https://localhost:8080/"
        },
        "outputId": "921ca2d4-7756-4f9e-c1c9-49a180796fa1"
      },
      "source": [
        "row_numbers = df_listenings.count()\n",
        "column_numbers = len(df_listenings.columns)\n",
        "print(row_numbers,column_numbers)"
      ],
      "execution_count": null,
      "outputs": [
        {
          "output_type": "stream",
          "name": "stdout",
          "text": [
            "13758905 5\n"
          ]
        }
      ]
    },
    {
      "cell_type": "code",
      "metadata": {
        "id": "RhVz-SvapIyr",
        "outputId": "1d7acbc9-90ca-4ad9-e6f5-22edd13860ec",
        "colab": {
          "base_uri": "https://localhost:8080/"
        }
      },
      "source": [
        "df_listenings_agg = df_listenings.select('user_id','track').groupby('user_id','track').agg(count('*').alias('count')).orderBy('user_id')\n",
        "df_listenings_agg.show()"
      ],
      "execution_count": null,
      "outputs": [
        {
          "output_type": "stream",
          "name": "stdout",
          "text": [
            "+-------+--------------------+-----+\n",
            "|user_id|               track|count|\n",
            "+-------+--------------------+-----+\n",
            "| --Seph| White Winter Hymnal|    3|\n",
            "| --Seph|         The Funeral|    1|\n",
            "| --Seph|Hope There's Someone|    1|\n",
            "| --Seph|         The Painter|    1|\n",
            "| --Seph|          Je te veux|    1|\n",
            "| --Seph|            War Pigs|    1|\n",
            "| --Seph|                 F12|    1|\n",
            "| --Seph|                Team|    1|\n",
            "| --Seph|          Nightmares|    1|\n",
            "| --Seph|               Radio|    1|\n",
            "| --Seph|   All I Want Is You|    1|\n",
            "| --Seph|    Little by Little|    2|\n",
            "| --Seph|        After Nature|    1|\n",
            "| --Seph|In the Hall of th...|    1|\n",
            "| --Seph|   Hey There Delilah|    1|\n",
            "| --Seph|   Let's Call It Off|    1|\n",
            "| --Seph|               Leloo|    1|\n",
            "| --Seph|             Pack Up|    1|\n",
            "| --Seph|           Introitus|    1|\n",
            "| --Seph|        The Leanover|    1|\n",
            "+-------+--------------------+-----+\n",
            "only showing top 20 rows\n",
            "\n"
          ]
        }
      ]
    },
    {
      "cell_type": "code",
      "metadata": {
        "id": "KsTXVsO7I7Jw",
        "colab": {
          "base_uri": "https://localhost:8080/"
        },
        "outputId": "535729e0-b5f2-4c79-a410-fe079c3c9b0e"
      },
      "source": [
        "row_numbers = df_listenings.count()\n",
        "column_numbers = len(df_listenings.columns)\n",
        "print(row_numbers,column_numbers)"
      ],
      "execution_count": null,
      "outputs": [
        {
          "output_type": "stream",
          "name": "stdout",
          "text": [
            "13758905 5\n"
          ]
        }
      ]
    },
    {
      "cell_type": "code",
      "source": [
        "df_listenings_agg = df_listenings_agg.limit(20000)"
      ],
      "metadata": {
        "id": "asmW3icc0hyb"
      },
      "execution_count": null,
      "outputs": []
    },
    {
      "cell_type": "markdown",
      "metadata": {
        "id": "vuebvg7UqzsO"
      },
      "source": [
        "# Let's convert the user id and track columns into unique integers\n",
        "\n",
        "\n"
      ]
    },
    {
      "cell_type": "code",
      "metadata": {
        "id": "F9RSpj3DN6aX",
        "colab": {
          "base_uri": "https://localhost:8080/"
        },
        "outputId": "389a84e1-094f-4014-b2d3-3f8f0cae8246"
      },
      "source": [
        "indexer = [StringIndexer(inputCol=col, outputCol=col+ '_index').fit(df_listenings_agg) for col in list(set(df_listenings_agg.columns)-set(['count']))]\n",
        "pipeline = Pipeline(stages = indexer)\n",
        "data = pipeline.fit(df_listenings_agg).transform(df_listenings_agg)\n",
        "data.show()"
      ],
      "execution_count": null,
      "outputs": [
        {
          "output_type": "stream",
          "name": "stdout",
          "text": [
            "+-------+--------------------+-----+-----------+-------------+\n",
            "|user_id|               track|count|track_index|user_id_index|\n",
            "+-------+--------------------+-----+-----------+-------------+\n",
            "| --Seph|          Nightmares|    1|    10600.0|         69.0|\n",
            "| --Seph|Virus (Luke Fair ...|    1|    15893.0|         69.0|\n",
            "| --Seph|Airplanes [feat H...|    1|      521.0|         69.0|\n",
            "| --Seph|Belina (Original ...|    1|     3280.0|         69.0|\n",
            "| --Seph|              Monday|    1|      334.0|         69.0|\n",
            "| --Seph|Hungarian Dance No 5|    1|     7555.0|         69.0|\n",
            "| --Seph|       Life On Mars?|    1|     1164.0|         69.0|\n",
            "| --Seph|  California Waiting|    1|      195.0|         69.0|\n",
            "| --Seph|       Phantom Pt II|    1|     1378.0|         69.0|\n",
            "| --Seph|   Summa for Strings|    1|    13737.0|         69.0|\n",
            "| --Seph|      Hour for magic|    2|     7492.0|         69.0|\n",
            "| --Seph|Hungarian Rhapsod...|    1|     7556.0|         69.0|\n",
            "| --Seph|     The Way We Were|    1|    14958.0|         69.0|\n",
            "| --Seph| Air on the G String|    1|     2456.0|         69.0|\n",
            "| --Seph|Vestido Estampado...|    1|    15847.0|         69.0|\n",
            "| --Seph|        Window Blues|    1|     1841.0|         69.0|\n",
            "| --Seph| White Winter Hymnal|    3|       59.0|         69.0|\n",
            "| --Seph|         The Embrace|    1|    14386.0|         69.0|\n",
            "| --Seph|          Paris 2004|    7|    11311.0|         69.0|\n",
            "| --Seph|Chelsea Hotel - L...|    1|     4183.0|         69.0|\n",
            "+-------+--------------------+-----+-----------+-------------+\n",
            "only showing top 20 rows\n",
            "\n"
          ]
        }
      ]
    },
    {
      "cell_type": "code",
      "metadata": {
        "id": "efL-hiR-q-AO"
      },
      "source": [
        "data = data.select('user_id_index','track_index','count').orderBy('user_id_index')"
      ],
      "execution_count": null,
      "outputs": []
    },
    {
      "cell_type": "code",
      "metadata": {
        "id": "OfKtj2ojrKae",
        "colab": {
          "base_uri": "https://localhost:8080/"
        },
        "outputId": "b73e029a-1fb8-42d9-c096-bc699b958be5"
      },
      "source": [
        "# List of columns to index\n",
        "columns_to_index = list(set(df_listenings_agg.columns) - set(['count']))\n",
        "\n",
        "# Create StringIndexer instances for each column\n",
        "indexer = [StringIndexer(inputCol=col, outputCol=col + '_index', handleInvalid=\"keep\").fit(df_listenings_agg) for col in columns_to_index]\n",
        "\n",
        "# Create a pipeline with the indexers\n",
        "pipeline = Pipeline(stages=indexer)\n",
        "\n",
        "# Apply the pipeline to your DataFrame\n",
        "data = pipeline.fit(df_listenings_agg).transform(df_listenings_agg)\n",
        "\n",
        "# Show the resulting DataFrame\n",
        "data.show()"
      ],
      "execution_count": null,
      "outputs": [
        {
          "output_type": "stream",
          "name": "stdout",
          "text": [
            "+-------+--------------------+-----+-----------+-------------+\n",
            "|user_id|               track|count|track_index|user_id_index|\n",
            "+-------+--------------------+-----+-----------+-------------+\n",
            "| --Seph|          Nightmares|    1|    10600.0|         69.0|\n",
            "| --Seph|Virus (Luke Fair ...|    1|    15893.0|         69.0|\n",
            "| --Seph|Airplanes [feat H...|    1|      521.0|         69.0|\n",
            "| --Seph|Belina (Original ...|    1|     3280.0|         69.0|\n",
            "| --Seph|              Monday|    1|      334.0|         69.0|\n",
            "| --Seph|Hungarian Dance No 5|    1|     7555.0|         69.0|\n",
            "| --Seph|       Life On Mars?|    1|     1164.0|         69.0|\n",
            "| --Seph|  California Waiting|    1|      195.0|         69.0|\n",
            "| --Seph|       Phantom Pt II|    1|     1378.0|         69.0|\n",
            "| --Seph|   Summa for Strings|    1|    13737.0|         69.0|\n",
            "| --Seph|      Hour for magic|    2|     7492.0|         69.0|\n",
            "| --Seph|Hungarian Rhapsod...|    1|     7556.0|         69.0|\n",
            "| --Seph|     The Way We Were|    1|    14958.0|         69.0|\n",
            "| --Seph| Air on the G String|    1|     2456.0|         69.0|\n",
            "| --Seph|Vestido Estampado...|    1|    15847.0|         69.0|\n",
            "| --Seph|        Window Blues|    1|     1841.0|         69.0|\n",
            "| --Seph| White Winter Hymnal|    3|       59.0|         69.0|\n",
            "| --Seph|         The Embrace|    1|    14386.0|         69.0|\n",
            "| --Seph|          Paris 2004|    7|    11311.0|         69.0|\n",
            "| --Seph|Chelsea Hotel - L...|    1|     4183.0|         69.0|\n",
            "+-------+--------------------+-----+-----------+-------------+\n",
            "only showing top 20 rows\n",
            "\n"
          ]
        }
      ]
    },
    {
      "cell_type": "markdown",
      "metadata": {
        "id": "IEwviAxXsHwN"
      },
      "source": [
        "# Train and Test data"
      ]
    },
    {
      "cell_type": "code",
      "metadata": {
        "id": "DRgu2p-PsYUw"
      },
      "source": [
        "(training,test) = data.randomSplit([0.5,0.5])"
      ],
      "execution_count": null,
      "outputs": []
    },
    {
      "cell_type": "markdown",
      "metadata": {
        "id": "M46wV6Gusdi5"
      },
      "source": [
        "# Let's Create our Model"
      ]
    },
    {
      "cell_type": "code",
      "metadata": {
        "id": "bwPk25M3sfRu"
      },
      "source": [
        "\n",
        "USER_ID = 'user_id_index'\n",
        "TRACK = 'track_index'\n",
        "COUNT = 'count'\n",
        "\n",
        "als = ALS(maxIter = 5, regParam=0.01, userCol = USER_ID, itemCol = TRACK, ratingCol = COUNT)\n",
        "model = als.fit(training)\n",
        "\n",
        "predictions = model.transform(test)"
      ],
      "execution_count": null,
      "outputs": []
    },
    {
      "cell_type": "markdown",
      "metadata": {
        "id": "lqBkLowzsoj8"
      },
      "source": [
        "\n",
        "# Generate top 10 Track recommendations for each user"
      ]
    },
    {
      "cell_type": "code",
      "metadata": {
        "id": "00mtv7XUsZGg"
      },
      "source": [
        "recs = model.recommendForAllUsers(10)"
      ],
      "execution_count": null,
      "outputs": []
    },
    {
      "cell_type": "code",
      "metadata": {
        "id": "_EQnSUh3ncar",
        "colab": {
          "base_uri": "https://localhost:8080/"
        },
        "outputId": "6528931f-c59a-4380-cf5f-f4e6fa126aee"
      },
      "source": [
        "recs.show()"
      ],
      "execution_count": null,
      "outputs": [
        {
          "output_type": "stream",
          "name": "stdout",
          "text": [
            "+-------------+--------------------+\n",
            "|user_id_index|     recommendations|\n",
            "+-------------+--------------------+\n",
            "|            0|[{15427, 11.90500...|\n",
            "|            1|[{349, 8.990572},...|\n",
            "|            2|[{349, 5.7906175}...|\n",
            "|            3|[{7847, 7.958605}...|\n",
            "|            4|[{4460, 18.147211...|\n",
            "|            5|[{13561, 7.203049...|\n",
            "|            6|[{349, 10.460324}...|\n",
            "|            7|[{7847, 7.313006}...|\n",
            "|            8|[{4460, 12.779207...|\n",
            "|            9|[{802, 4.940565},...|\n",
            "|           10|[{7847, 7.8536835...|\n",
            "|           11|[{12695, 8.651566...|\n",
            "|           12|[{3140, 6.5351753...|\n",
            "|           13|[{9321, 9.0086565...|\n",
            "|           14|[{4460, 32.658653...|\n",
            "|           15|[{4460, 17.079054...|\n",
            "|           16|[{14299, 8.931053...|\n",
            "|           17|[{1739, 7.9628067...|\n",
            "|           18|[{12695, 9.423298...|\n",
            "|           19|[{15427, 8.205583...|\n",
            "+-------------+--------------------+\n",
            "only showing top 20 rows\n",
            "\n"
          ]
        }
      ]
    },
    {
      "cell_type": "code",
      "metadata": {
        "id": "stUaAoKpTgqT",
        "colab": {
          "base_uri": "https://localhost:8080/"
        },
        "outputId": "fca066a4-c345-4a35-8a35-514844fb5ac2"
      },
      "source": [
        "recs.take(1)"
      ],
      "execution_count": null,
      "outputs": [
        {
          "output_type": "execute_result",
          "data": {
            "text/plain": [
              "[Row(user_id_index=0, recommendations=[Row(track_index=15427, rating=11.905009269714355), Row(track_index=2380, rating=7.040561199188232), Row(track_index=6688, rating=6.728918075561523), Row(track_index=1439, rating=5.7273664474487305), Row(track_index=7847, rating=5.55950927734375), Row(track_index=7, rating=5.432389259338379), Row(track_index=2846, rating=5.176091194152832), Row(track_index=165, rating=5.165829658508301), Row(track_index=12191, rating=5.126568794250488), Row(track_index=10338, rating=4.941786289215088)])]"
            ]
          },
          "metadata": {},
          "execution_count": 42
        }
      ]
    },
    {
      "cell_type": "code",
      "source": [],
      "metadata": {
        "id": "QDcv5JfOAtcs"
      },
      "execution_count": null,
      "outputs": []
    }
  ]
}